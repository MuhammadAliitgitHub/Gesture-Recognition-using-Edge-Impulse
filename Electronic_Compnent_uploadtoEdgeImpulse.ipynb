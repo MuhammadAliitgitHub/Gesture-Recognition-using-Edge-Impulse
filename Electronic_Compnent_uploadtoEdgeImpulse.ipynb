{
  "nbformat": 4,
  "nbformat_minor": 0,
  "metadata": {
    "colab": {
      "provenance": [],
      "toc_visible": true,
      "authorship_tag": "ABX9TyNpRoV5vJzItfo11c/wfK5W",
      "include_colab_link": true
    },
    "kernelspec": {
      "name": "python3",
      "display_name": "Python 3"
    },
    "language_info": {
      "name": "python"
    }
  },
  "cells": [
    {
      "cell_type": "markdown",
      "metadata": {
        "id": "view-in-github",
        "colab_type": "text"
      },
      "source": [
        "<a href=\"https://colab.research.google.com/github/MuhammadAliitgitHub/Gesture-Recognition-using-Edge-Impulse/blob/main/Electronic_Compnent_uploadtoEdgeImpulse.ipynb\" target=\"_parent\"><img src=\"https://colab.research.google.com/assets/colab-badge.svg\" alt=\"Open In Colab\"/></a>"
      ]
    },
    {
      "cell_type": "code",
      "execution_count": 1,
      "metadata": {
        "colab": {
          "base_uri": "https://localhost:8080/"
        },
        "id": "kTAepFCHYNEr",
        "outputId": "e93166df-41d4-4f56-c0f3-a9c365862946"
      },
      "outputs": [
        {
          "output_type": "stream",
          "name": "stdout",
          "text": [
            "Mounted at /content/drive\n"
          ]
        }
      ],
      "source": [
        "from google.colab import drive\n",
        "drive.mount('/content/drive')\n"
      ]
    },
    {
      "cell_type": "code",
      "source": [
        "import numpy as np\n",
        "import matplotlib.pyplot as plt\n",
        "\n",
        "import random, os, PIL, json, time, hmac, hashlib, requests, threading, queue\n",
        "\n",
        "from skimage.transform import resize                      # Used to scale/resize image arrays"
      ],
      "metadata": {
        "id": "PfsMc5inZAdw"
      },
      "execution_count": 2,
      "outputs": []
    },
    {
      "cell_type": "code",
      "source": [
        "### Settings\n",
        "\n",
        "# Edge Impulse > your_project > Dashboard > Keys\n",
        "EI_API_KEY = \"ei_0296235a3766178dcfcf84230a79055146d310f18222ef45baed540c3e7a9451\"\n",
        "EI_HMAC_KEY = \"7029222fbdb02aaa9555eab5291765d8\"\n",
        "\n",
        "# Number of threads to run to upload data to Edge Impulse\n",
        "NUM_THREADS = 20\n",
        "\n",
        "# Location of dataset\n",
        "DATASET_PATH = \"/content/drive/MyDrive/content/dataset\"\n",
        "\n",
        "# Desired resolution of images\n",
        "TARGET_WIDTH = 28\n",
        "TARGET_HEIGHT = 28\n",
        "\n",
        "# Invert image (dark backgrounds can sometimes improve accuracy)\n",
        "INVERT = False\n",
        "\n",
        "# Set aside 20% for test set (Edge Impulse automatically extracts validation set during training)\n",
        "TEST_RATIO = 0.2\n",
        "\n",
        "# You are welcome to change the seed to try a different validation set split\n",
        "random.seed(42)"
      ],
      "metadata": {
        "id": "6G8dmeaDZDIS"
      },
      "execution_count": 8,
      "outputs": []
    },
    {
      "cell_type": "markdown",
      "source": [
        "## Curate Image Dataset\n",
        "\n",
        "The following cells perform the following:\n",
        " * Load images from filesystem as grayscale values\n",
        " * Set aside some portion of the dataset as test data\n",
        " * Resize images\n",
        " * Normalize pixel value from [0, 255] to [0.0, 1.0]\n",
        " * Flatten images to 1D array"
      ],
      "metadata": {
        "id": "Emw2b-HoZfm8"
      }
    },
    {
      "cell_type": "code",
      "source": [
        "### Load images as Numpy arrays\n",
        "\n",
        "# We want to record the labels and assign a ground truth label as a number to each sample\n",
        "labels = []\n",
        "y_all = []    # Lowercase 'y' - 1D vector of the ground truth labels (n)\n",
        "X_all = []    # Uppercase 'X' - 3D array of all image samples (n x width x height)\n",
        "\n",
        "# Find the directories in the dataset folder (skip the Jupyter Notebook checkpoints hidden folder)\n",
        "for label in os.listdir(DATASET_PATH):\n",
        "  class_dir = os.path.join(DATASET_PATH, label)\n",
        "  if os.path.isdir(class_dir) and label != \".ipynb_checkpoints\":\n",
        "\n",
        "    # Add the name of the folder to our labels list\n",
        "    labels.append(label)\n",
        "\n",
        "    # Go through each image in the folder\n",
        "    for i, file in enumerate(os.listdir(class_dir)):\n",
        "\n",
        "      # Skip the Jupyter Notebook checkpoints folder that sometimes gets added\n",
        "      if file != \".ipynb_checkpoints\":\n",
        "\n",
        "        # Open image and convert to grayscale\n",
        "        file_path = os.path.join(class_dir, file)\n",
        "        img = PIL.Image.open(file_path).convert('L')\n",
        "\n",
        "        # Convert the image to a Numpy array, optionally invern, and append to X\n",
        "        img_array = np.asarray(img)\n",
        "        if INVERT:\n",
        "          img_array = 255 - img_array\n",
        "        X_all.append(img_array)\n",
        "\n",
        "        # Add label to the y array\n",
        "        y_all.append(label)\n",
        "\n",
        "    # Show how many images we loaded\n",
        "    print(\"Added\", str(i + 1), \"images from\", label)\n",
        "\n",
        "# Calculate total number of samples\n",
        "num_samples = len(X_all)\n",
        "\n",
        "# Sort the labels list by alphabetical order\n",
        "labels = sorted(labels)\n",
        "\n",
        "# Print out labels and number of samples\n",
        "print(labels)\n",
        "print(\"Number of samples:\", num_samples)"
      ],
      "metadata": {
        "colab": {
          "base_uri": "https://localhost:8080/"
        },
        "id": "PBGUTK-PZgbD",
        "outputId": "2359276a-f189-4723-88cf-be2f4e4398fd"
      },
      "execution_count": 9,
      "outputs": [
        {
          "output_type": "stream",
          "name": "stdout",
          "text": [
            "Added 50 images from resistor\n",
            "Added 50 images from diode\n",
            "Added 50 images from led\n",
            "Added 50 images from capacitor\n",
            "Added 50 images from background\n",
            "['background', 'capacitor', 'diode', 'led', 'resistor']\n",
            "Number of samples: 250\n"
          ]
        }
      ]
    },
    {
      "cell_type": "code",
      "source": [
        "### Shuffle samples and labels together, divide into test and training sets\n",
        "\n",
        "# Shuffle samples and associated labels together\n",
        "X_y = list(zip(X_all, y_all))\n",
        "random.shuffle(X_y)\n",
        "X_all, y_all = zip(*X_y)\n",
        "\n",
        "# Calculate number of validation and test samples to put aside (round down)\n",
        "num_samples_test = int(TEST_RATIO * num_samples)\n",
        "\n",
        "# The first `num_samples_test` samples of the shuffled list becomes the test set\n",
        "X_test = X_all[:num_samples_test]\n",
        "y_test = y_all[:num_samples_test]\n",
        "\n",
        "# The remaining samples become the training set\n",
        "X_train = X_all[num_samples_test:]\n",
        "y_train = y_all[num_samples_test:]\n",
        "\n",
        "# Remember the number of samples in the test set\n",
        "num_samples_train = len(X_train)\n",
        "\n",
        "# Print out the number of test and training samples\n",
        "print(\"Number of test samples:\", num_samples_test)\n",
        "print(\"Number of training samples:\", num_samples_train)"
      ],
      "metadata": {
        "colab": {
          "base_uri": "https://localhost:8080/"
        },
        "id": "M-V80NNgcDCU",
        "outputId": "f95a63f2-d417-4ffe-9140-156a4bf934c2"
      },
      "execution_count": 10,
      "outputs": [
        {
          "output_type": "stream",
          "name": "stdout",
          "text": [
            "Number of test samples: 50\n",
            "Number of training samples: 200\n"
          ]
        }
      ]
    },
    {
      "cell_type": "code",
      "source": [
        "### View one of the training samples\n",
        "\n",
        "# Chose which sample you want to view\n",
        "idx = 0\n",
        "\n",
        "# Print out label (numbe and string) and part of the array\n",
        "print(\"Label: \" + y_train[idx])\n",
        "print(X_train[idx])\n",
        "\n",
        "# Display image from array\n",
        "plt.imshow(X_train[idx], cmap='gray', vmin=0, vmax=255)"
      ],
      "metadata": {
        "colab": {
          "base_uri": "https://localhost:8080/",
          "height": 589
        },
        "id": "bJuxOyYtmASg",
        "outputId": "ee3fde26-ad7f-44e8-beeb-7f18bc3e86d7"
      },
      "execution_count": 11,
      "outputs": [
        {
          "output_type": "stream",
          "name": "stdout",
          "text": [
            "Label: led\n",
            "[[146 146 146 ... 149 149 149]\n",
            " [146 146 146 ... 149 149 149]\n",
            " [146 146 146 ... 149 149 149]\n",
            " ...\n",
            " [149 149 151 ... 154 154 154]\n",
            " [149 149 149 ... 154 154 154]\n",
            " [149 151 151 ... 154 154 154]]\n"
          ]
        },
        {
          "output_type": "execute_result",
          "data": {
            "text/plain": [
              "<matplotlib.image.AxesImage at 0x79b3c6af5290>"
            ]
          },
          "metadata": {},
          "execution_count": 11
        },
        {
          "output_type": "display_data",
          "data": {
            "text/plain": [
              "<Figure size 640x480 with 1 Axes>"
            ],
            "image/png": "[encoded data removed]"
          },
          "metadata": {}
        }
      ]
    },
    {
      "cell_type": "code",
      "source": [
        "### Function to resize list of images\n",
        "def resize_images(images, width, height, anti_aliasing=True):\n",
        "  \"\"\"\n",
        "  Prove a list of Numpy arrays (in images parameter) to have them all resized to desired height and\n",
        "  width. Returns the list of newly resized image arrays.\n",
        "\n",
        "  NOTE: skimage resize returns *normalized* image arrays (values between 0..1)\n",
        "  \"\"\"\n",
        "  X_out = []\n",
        "  for i, img in enumerate(images):\n",
        "    X_out.append(resize(img, (height, width), anti_aliasing=anti_aliasing))\n",
        "  return X_out"
      ],
      "metadata": {
        "id": "5_5VkkgnmMbw"
      },
      "execution_count": 13,
      "outputs": []
    },
    {
      "cell_type": "code",
      "source": [
        "### Scale/crop images (Note: also normalizes data to 0..1)\n",
        "\n",
        "# Resize (scale) all images in the training set\n",
        "X_train = resize_images(X_train, TARGET_WIDTH, TARGET_HEIGHT)\n",
        "\n",
        "# Resize (scale) all images in the test set\n",
        "X_test = resize_images(X_test, TARGET_WIDTH, TARGET_HEIGHT)"
      ],
      "metadata": {
        "id": "EKDqY2w-mnPw"
      },
      "execution_count": 14,
      "outputs": []
    },
    {
      "cell_type": "code",
      "source": [
        "### View training sample again (after they all have been scaled)\n",
        "\n",
        "# Chose which sample you want to view\n",
        "idx = 0\n",
        "\n",
        "# Print out label (numbe and string) and part of the array\n",
        "print(\"Label: \" + y_train[idx])\n",
        "print(\"First row:\", X_train[idx][:1,:])\n",
        "\n",
        "# Display image from array (note that images have been normalized)\n",
        "plt.imshow(X_train[idx], cmap='gray', vmin=0, vmax=1)"
      ],
      "metadata": {
        "colab": {
          "base_uri": "https://localhost:8080/",
          "height": 552
        },
        "id": "tyjtRqbMmq13",
        "outputId": "9616e1f4-569b-4cb6-80fa-9498615684e1"
      },
      "execution_count": 19,
      "outputs": [
        {
          "output_type": "stream",
          "name": "stdout",
          "text": [
            "Label: led\n",
            "First row: [[0.57226442 0.56988598 0.57199302 0.57260279 0.57326151 0.58226534\n",
            "  0.58406241 0.5774691  0.57301512 0.57782957 0.58390842 0.5843683\n",
            "  0.58603939 0.58480627 0.58437167 0.58431478 0.58461692 0.5866294\n",
            "  0.58469551 0.58431461 0.58431373 0.58431373 0.58431373 0.58431373\n",
            "  0.58431184 0.58355562 0.58240334 0.58419524]]\n"
          ]
        },
        {
          "output_type": "execute_result",
          "data": {
            "text/plain": [
              "<matplotlib.image.AxesImage at 0x79b3c56bebd0>"
            ]
          },
          "metadata": {},
          "execution_count": 19
        },
        {
          "output_type": "display_data",
          "data": {
            "text/plain": [
              "<Figure size 640x480 with 1 Axes>"
            ],
            "image/png": "[encoded data removed]"
          },
          "metadata": {}
        }
      ]
    },
    {
      "cell_type": "code",
      "source": [
        "### Convert list of samples into Numpy arrays\n",
        "\n",
        "# Convert sets\n",
        "X_train = np.asarray(X_train)\n",
        "X_test = np.asarray(X_test)\n",
        "\n",
        "# Print out the new Numpy array shapes (always a good idea to check the shapes!)\n",
        "print(\"Training X:\", X_train.shape)\n",
        "print(\"Test X:\", X_test.shape)\n"
      ],
      "metadata": {
        "colab": {
          "base_uri": "https://localhost:8080/"
        },
        "id": "V3L2tGEHpvYX",
        "outputId": "aa863d8a-e669-43a9-f649-01e5c463cf76"
      },
      "execution_count": 20,
      "outputs": [
        {
          "output_type": "stream",
          "name": "stdout",
          "text": [
            "Training X: (200, 28, 28)\n",
            "Test X: (50, 28, 28)\n"
          ]
        }
      ]
    },
    {
      "cell_type": "code",
      "source": [
        "### Flatten each image to a 1D vector (DNN requires 1D input)\n",
        "\n",
        "# Compute length of 1D array that we will flatten each image to\n",
        "len_vector = TARGET_WIDTH * TARGET_WIDTH\n",
        "\n",
        "# Flatten matricies to vectors\n",
        "X_train = X_train.reshape(num_samples_train, len_vector)\n",
        "X_test = X_test.reshape(num_samples_test, len_vector)\n",
        "\n",
        "# Print out the new Numpy array shapes (always a good idea to check the shapes!)\n",
        "print(\"Training X:\", X_train.shape)\n",
        "print(\"Test X:\", X_test.shape)"
      ],
      "metadata": {
        "colab": {
          "base_uri": "https://localhost:8080/"
        },
        "id": "2yA1V7dZpzA_",
        "outputId": "46553ce1-228e-4b79-b9f7-dac227744c5c"
      },
      "execution_count": 21,
      "outputs": [
        {
          "output_type": "stream",
          "name": "stdout",
          "text": [
            "Training X: (200, 784)\n",
            "Test X: (50, 784)\n"
          ]
        }
      ]
    },
    {
      "cell_type": "code",
      "source": [
        "def create_json_wrapper():\n",
        "  \"\"\"\n",
        "  Construct initial JSON wrapper as a template\n",
        "  \"\"\"\n",
        "\n",
        "  # Start with all zeros. Hs256 gives 32 bytes and we encode in hex. So, we need 64 characters here.\n",
        "  empty_signature = ''.join(['0'] * 64)\n",
        "\n",
        "  # Create JSON wrapper for data\n",
        "  data = {\n",
        "      \"protected\": {\n",
        "          \"ver\": \"v1\",\n",
        "          \"alg\": \"HS256\",\n",
        "          \"iat\": time.time()                  # Epoch time, seconds since 1970\n",
        "      },\n",
        "      \"signature\": empty_signature,\n",
        "      \"payload\": {\n",
        "          \"device_type\": \"pre-made\",          # Pre-made dataset (not collected)\n",
        "          \"interval_ms\": 1,                   # Pretend it's interval of 1 ms\n",
        "          \"sensors\": [\n",
        "              { \"name\": \"img\", \"units\": \"B\" } # Unitless (\"Byte\" data)\n",
        "          ],\n",
        "          \"values\": []\n",
        "      }\n",
        "  }\n",
        "\n",
        "  return data"
      ],
      "metadata": {
        "id": "tx61bv60p483"
      },
      "execution_count": 23,
      "outputs": []
    },
    {
      "cell_type": "code",
      "source": [
        "def send_sample(data, label, test_set=False):\n",
        "  \"\"\"\n",
        "  Send raw data sample to Edge Impulse project, return HTTP status code\n",
        "  \"\"\"\n",
        "\n",
        "  # Encode message in JSON format\n",
        "  encoded = json.dumps(data)\n",
        "\n",
        "  # Sign message\n",
        "  signature = hmac.new(bytes(EI_HMAC_KEY, 'utf-8'),\n",
        "                      msg = encoded.encode('utf-8'),\n",
        "                      digestmod = hashlib.sha256).hexdigest()\n",
        "\n",
        "  # Set the signature in the message and encode data again to JSON format\n",
        "  data['signature'] = signature\n",
        "  encoded = json.dumps(data)\n",
        "\n",
        "  # Construct URL based on dataset being sent\n",
        "  if test_set:\n",
        "    url = 'https://ingestion.edgeimpulse.com/api/testing/data'\n",
        "  else:\n",
        "    url = 'https://ingestion.edgeimpulse.com/api/training/data'\n",
        "\n",
        "  # Upload the data to project\n",
        "  res = requests.post(url=url,\n",
        "                      data=encoded,\n",
        "                      headers={\n",
        "                          'Content-Type': 'application/json',\n",
        "                          'x-file-name': str(label),\n",
        "                          'x-api-key': EI_API_KEY\n",
        "                      })\n",
        "\n",
        "  return res"
      ],
      "metadata": {
        "id": "URCk0MqSqZab"
      },
      "execution_count": 24,
      "outputs": []
    },
    {
      "cell_type": "code",
      "source": [
        "def upload_sample(len_vector, is_test_set):\n",
        "  \"\"\"\n",
        "  Pull sample and label from queue and send to Edge Impulse server. To be called within a thread.\n",
        "  \"\"\"\n",
        "\n",
        "  global q\n",
        "\n",
        "  while not q.empty():\n",
        "\n",
        "    # Start with empty JSON wrapper\n",
        "    data = create_json_wrapper()\n",
        "\n",
        "    # Fill up values field (we need to convert to float to avoid JSON error)\n",
        "    sample, label = q.get()\n",
        "    for j in range(len_vector):\n",
        "      data['payload']['values'].append(float(sample[j]))\n",
        "\n",
        "    # Send sample\n",
        "    res = send_sample(data, label, test_set=is_test_set)\n",
        "\n",
        "    # Check response code\n",
        "    if (res.status_code != 200):\n",
        "      print(\"Failed to upload file to Edge Impulse\", res.status_code, res.content)"
      ],
      "metadata": {
        "id": "lZZZX4ySsbwN"
      },
      "execution_count": 25,
      "outputs": []
    },
    {
      "cell_type": "code",
      "source": [
        "### Use many threads to send training data and labels to Edge Impulse project\n",
        "\n",
        "# Fill queue with training data and labels\n",
        "q = queue.Queue()\n",
        "for i in range(num_samples_train):\n",
        "  q.put((X_train[i], y_train[i]))\n",
        "\n",
        "# Create and start threads\n",
        "threads = []\n",
        "for i in range(NUM_THREADS):\n",
        "  threads.append(threading.Thread(target=upload_sample, args=(len_vector, False)))\n",
        "  threads[i].start()\n",
        "\n",
        "# Wait for threads to be done\n",
        "for thread in threads:\n",
        "  thread.join()"
      ],
      "metadata": {
        "id": "TTWu1eo9sjgx"
      },
      "execution_count": 26,
      "outputs": []
    },
    {
      "cell_type": "code",
      "source": [
        "### Use many threads to send test data and labels to Edge Impulse project\n",
        "\n",
        "# Fill queue with test data and labels\n",
        "q = queue.Queue()\n",
        "for i in range(num_samples_test):\n",
        "  q.put((X_test[i], y_test[i]))\n",
        "\n",
        "# Create and start threads\n",
        "threads = []\n",
        "for i in range(NUM_THREADS):\n",
        "  threads.append(threading.Thread(target=upload_sample, args=(len_vector, True)))\n",
        "  threads[i].start()\n",
        "\n",
        "# Wait for threads to be done\n",
        "for thread in threads:\n",
        "  thread.join()"
      ],
      "metadata": {
        "id": "gTFyfHQIsqie"
      },
      "execution_count": 27,
      "outputs": []
    }
  ]
}